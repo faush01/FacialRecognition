{
 "cells": [
  {
   "cell_type": "code",
   "execution_count": 1,
   "id": "9ef7f306-d37b-4a57-8694-e297b76d7248",
   "metadata": {},
   "outputs": [],
   "source": [
    "from PIL import Image, ImageDraw\n",
    "import numpy as np\n",
    "import dlib"
   ]
  },
  {
   "cell_type": "code",
   "execution_count": 3,
   "id": "9c0cb118-bd9d-4ec1-a0ec-4f3afde9247c",
   "metadata": {},
   "outputs": [
    {
     "name": "stdout",
     "output_type": "stream",
     "text": [
      "Faces found : 1\n",
      " - [(110, 49) (664, 603)]\n"
     ]
    }
   ],
   "source": [
    "image_path = \"..\\\\data\\\\training\\\\Gal Gadot\\\\03.jpg\"\n",
    "#image_path = \"data\\\\group02.jpg\"\n",
    "\n",
    "arr = dlib.load_rgb_image(image_path)\n",
    "\n",
    "face_detector = dlib.get_frontal_face_detector()\n",
    "face_at = face_detector(arr, 1)\n",
    "\n",
    "print(\"Faces found : \" + str(len(face_at)))\n",
    "for face_box in face_at:\n",
    "    print(\" - %s\" % (face_box))\n"
   ]
  },
  {
   "cell_type": "code",
   "execution_count": 4,
   "id": "cca747d5-70c0-4c14-baa9-49f092410e29",
   "metadata": {},
   "outputs": [],
   "source": [
    "im = Image.fromarray(arr.astype('uint8'), \"RGB\")\n",
    "img1 = ImageDraw.Draw(im)\n",
    "for face_box in face_at:\n",
    "    shape = [(face_box.left(), face_box.top()), (face_box.right(), face_box.bottom())]\n",
    "    img1.rectangle(shape, outline=\"green\", width=3)\n",
    "#im.save(image_path + \".box.jpg\")\n",
    "im.show()\n",
    "#im"
   ]
  },
  {
   "cell_type": "code",
   "execution_count": 5,
   "id": "aac11acb-896c-43f5-a09c-71c4640357e8",
   "metadata": {},
   "outputs": [
    {
     "data": {
      "text/plain": [
       "array([-0.17535883,  0.08927292,  0.11181931, -0.00774651, -0.1568355 ,\n",
       "        0.03699478, -0.0563058 , -0.06275058,  0.17375056, -0.14304124,\n",
       "        0.18768744, -0.07795592, -0.19478853,  0.05410347, -0.14640036,\n",
       "        0.2004699 , -0.12309376, -0.16539806,  0.01264234, -0.14337325,\n",
       "        0.15648346,  0.01497924, -0.00205801,  0.08843686, -0.25907293,\n",
       "       -0.2511493 , -0.00399091, -0.09822429, -0.09938961, -0.22029804,\n",
       "       -0.03827164,  0.06213973, -0.19253258,  0.02868418, -0.04203544,\n",
       "        0.20751718, -0.0165715 , -0.11507441,  0.14827482,  0.06301116,\n",
       "       -0.21331735, -0.01661847,  0.01569113,  0.29410526,  0.20223241,\n",
       "       -0.00715149, -0.00210494, -0.1161276 ,  0.13924043, -0.27863324,\n",
       "        0.04783381,  0.16217299, -0.00944456,  0.07108239,  0.02933197,\n",
       "       -0.13228725, -0.00952971,  0.09988625, -0.17673634,  0.05454158,\n",
       "        0.08490393, -0.10427202,  0.01918662, -0.17724928,  0.18170069,\n",
       "        0.12564078, -0.1046671 , -0.09321835,  0.21747388, -0.13384357,\n",
       "       -0.08977598,  0.10186812, -0.0938848 , -0.28251338, -0.22466585,\n",
       "        0.04359948,  0.40655652,  0.21420307, -0.12602758,  0.04929906,\n",
       "       -0.03929452, -0.03951136,  0.01349385,  0.18830326,  0.07629499,\n",
       "        0.10795002, -0.05461898,  0.09837761,  0.22912303, -0.01579205,\n",
       "       -0.03786939,  0.25160712, -0.03028937, -0.05943726,  0.04326163,\n",
       "        0.09994598, -0.1618889 ,  0.06616411, -0.14381097, -0.07254337,\n",
       "       -0.04819907, -0.09122642, -0.0205614 ,  0.04087768, -0.17296846,\n",
       "        0.18804923, -0.07695467, -0.04621731, -0.14989904, -0.08926872,\n",
       "       -0.10095965,  0.09987154,  0.20062253, -0.26993719,  0.15322565,\n",
       "        0.16991933,  0.08060732,  0.22401686,  0.09653419,  0.09940369,\n",
       "        0.05149393, -0.09550164, -0.17663443, -0.05770777,  0.02438897,\n",
       "       -0.04661194,  0.08363379,  0.08048101])"
      ]
     },
     "execution_count": 5,
     "metadata": {},
     "output_type": "execute_result"
    }
   ],
   "source": [
    "import face_recognition_models\n",
    "\n",
    "#predictor_68_point_model = face_recognition_models.pose_predictor_model_location()\n",
    "#pose_predictor_68_point = dlib.shape_predictor(predictor_68_point_model)\n",
    "\n",
    "predictor_5_point_model = face_recognition_models.pose_predictor_five_point_model_location()\n",
    "pose_predictor_5_point = dlib.shape_predictor(predictor_5_point_model)\n",
    "face_data = pose_predictor_5_point(arr, face_at[0])\n",
    "\n",
    "face_recognition_model = face_recognition_models.face_recognition_model_location()\n",
    "face_encoder = dlib.face_recognition_model_v1(face_recognition_model)\n",
    "enc_data = face_encoder.compute_face_descriptor(arr, face_data, 1)\n",
    "\n",
    "dib_face_enc = np.array(enc_data)\n",
    "dib_face_enc\n"
   ]
  },
  {
   "cell_type": "code",
   "execution_count": 6,
   "id": "66117c77-5f6d-4180-928a-12a10e30c4ae",
   "metadata": {},
   "outputs": [
    {
     "data": {
      "text/plain": [
       "[(49, 664, 603, 110)]"
      ]
     },
     "execution_count": 6,
     "metadata": {},
     "output_type": "execute_result"
    }
   ],
   "source": [
    "import face_recognition\n",
    "import cv2\n",
    "\n",
    "#image = cv2.imread(image_path)\n",
    "#rgb = cv2.cvtColor(image, cv2.COLOR_BGR2RGB)\n",
    "\n",
    "boxes = face_recognition.api.face_locations(arr, model='hog')\n",
    "boxes"
   ]
  },
  {
   "cell_type": "code",
   "execution_count": 7,
   "id": "9d73ca95-f8cd-47ae-ac26-0654056fe897",
   "metadata": {},
   "outputs": [],
   "source": [
    "encodings = face_recognition.api.face_encodings(arr, boxes)\n",
    "#encodings[0]\n",
    "encodings.append(dib_face_enc)"
   ]
  },
  {
   "cell_type": "code",
   "execution_count": 8,
   "id": "d00e37e1-14e5-431c-bf40-3dec915acb81",
   "metadata": {},
   "outputs": [
    {
     "data": {
      "text/plain": [
       "array([0., 0.])"
      ]
     },
     "execution_count": 8,
     "metadata": {},
     "output_type": "execute_result"
    }
   ],
   "source": [
    "\n",
    "np.linalg.norm(encodings - dib_face_enc, axis=1)\n"
   ]
  },
  {
   "cell_type": "code",
   "execution_count": null,
   "id": "05e16c15-1187-476d-8635-472e7baa5ccd",
   "metadata": {},
   "outputs": [],
   "source": []
  }
 ],
 "metadata": {
  "kernelspec": {
   "display_name": "Python 3 (ipykernel)",
   "language": "python",
   "name": "python3"
  },
  "language_info": {
   "codemirror_mode": {
    "name": "ipython",
    "version": 3
   },
   "file_extension": ".py",
   "mimetype": "text/x-python",
   "name": "python",
   "nbconvert_exporter": "python",
   "pygments_lexer": "ipython3",
   "version": "3.8.12"
  }
 },
 "nbformat": 4,
 "nbformat_minor": 5
}
