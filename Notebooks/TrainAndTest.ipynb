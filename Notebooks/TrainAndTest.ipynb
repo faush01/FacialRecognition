{
 "cells": [
  {
   "cell_type": "code",
   "execution_count": 1,
   "id": "f23a784d-9d78-44e2-bcc7-bddae9404b82",
   "metadata": {},
   "outputs": [],
   "source": [
    "import face_recognition\n",
    "import cv2\n",
    "\n",
    "#import pickle\n",
    "import os\n",
    "from os import walk\n",
    "#import time\n",
    "#import numpy as np"
   ]
  },
  {
   "cell_type": "code",
   "execution_count": 4,
   "id": "cb606662-f9f6-4551-a771-c7bdd67f6eff",
   "metadata": {},
   "outputs": [
    {
     "name": "stdout",
     "output_type": "stream",
     "text": [
      "Gal Gadot : ..\\data\\training\\Gal Gadot\\01.jpg\n",
      "(277, 526, 598, 205)\n",
      "Gal Gadot : ..\\data\\training\\Gal Gadot\\02.jpg\n",
      "(241, 526, 562, 205)\n",
      "Gal Gadot : ..\\data\\training\\Gal Gadot\\03.jpg\n",
      "(49, 664, 603, 110)\n",
      "Gal Gadot : ..\\data\\training\\Gal Gadot\\04.jpg\n",
      "(67, 182, 196, 53)\n",
      "Gal Gadot : ..\\data\\training\\Gal Gadot\\05.jpg\n",
      "(201, 379, 468, 111)\n",
      "Ryan Reynolds : ..\\data\\training\\Ryan Reynolds\\reynolds.jpg\n",
      "(246, 707, 708, 245)\n",
      "Ryan Reynolds : ..\\data\\training\\Ryan Reynolds\\Ryan-Reynolds-2011.jpg\n",
      "(290, 504, 675, 118)\n",
      "Ryan Reynolds : ..\\data\\training\\Ryan Reynolds\\Ryan-Reynolds.png\n",
      "(82, 253, 211, 124)\n",
      "Ryan Reynolds : ..\\data\\training\\Ryan Reynolds\\Ryan_Reynolds 02.jpg\n",
      "(118, 304, 304, 118)\n",
      "Ryan Reynolds : ..\\data\\training\\Ryan Reynolds\\Ryan_Reynolds.jpg\n",
      "(192, 365, 415, 142)\n",
      "The Rock : ..\\data\\training\\The Rock\\02.jpg\n",
      "(119, 461, 504, 76)\n",
      "The Rock : ..\\data\\training\\The Rock\\03.jpg\n",
      "(170, 526, 491, 205)\n",
      "The Rock : ..\\data\\training\\The Rock\\4608.jpg\n",
      "(92, 451, 554, 0)\n"
     ]
    }
   ],
   "source": [
    "training_path = \"..\\\\data\\\\training\"\n",
    "show_detected_faces = True\n",
    "face_data = \"..\\\\data\\\\face_enc_data.tsv\"\n",
    "\n",
    "face_encodings = open(face_data, \"w\")\n",
    "\n",
    "def find_images(base_path, found_images):\n",
    "    for (dirpath, dirnames, filenames) in walk(base_path):\n",
    "        for file_name in filenames:\n",
    "            found_images.append(os.path.join(dirpath, file_name))\n",
    "\n",
    "image_files = []\n",
    "find_images(training_path, image_files)\n",
    "\n",
    "for image_path in image_files:\n",
    "    name = image_path.split(os.path.sep)[-2]\n",
    "    print(name + \" : \" + image_path)\n",
    "    \n",
    "    image = cv2.imread(image_path)\n",
    "    rgb = cv2.cvtColor(image, cv2.COLOR_BGR2RGB)\n",
    "\n",
    "    boxes = face_recognition.api.face_locations(rgb, model='hog')\n",
    "\n",
    "    # show face boxes found\n",
    "    if show_detected_faces or len(boxes) != 1:\n",
    "        for face_box in boxes:\n",
    "            print(face_box)\n",
    "            y1, x2, y2, x1 = face_box\n",
    "            cv2.rectangle(image, (x1, y1), (x2, y2), (0, 255, 0), 2)\n",
    "        cv2.imshow(\"Frame\", image)\n",
    "        cv2.waitKey(0)    \n",
    "\n",
    "    if len(boxes) != 1:\n",
    "        print (\"One face per image is expected, found : \" + str(len(boxes)))\n",
    "        break\n",
    "        \n",
    "    encodings = face_recognition.api.face_encodings(rgb, boxes)\n",
    "       \n",
    "    encoding_data = map(str, encodings[0])\n",
    "    face_encodings.write(name + \"\\t\" + \"|\".join(encoding_data) + \"\\t\" + str(boxes[0]) + \"\\t\" + image_path + \"\\n\")    \n",
    "    \n",
    "face_encodings.close()"
   ]
  },
  {
   "cell_type": "code",
   "execution_count": null,
   "id": "e27a4253-0fb1-436a-b757-992582ca6a6c",
   "metadata": {},
   "outputs": [],
   "source": []
  }
 ],
 "metadata": {
  "kernelspec": {
   "display_name": "Python 3 (ipykernel)",
   "language": "python",
   "name": "python3"
  },
  "language_info": {
   "codemirror_mode": {
    "name": "ipython",
    "version": 3
   },
   "file_extension": ".py",
   "mimetype": "text/x-python",
   "name": "python",
   "nbconvert_exporter": "python",
   "pygments_lexer": "ipython3",
   "version": "3.8.12"
  }
 },
 "nbformat": 4,
 "nbformat_minor": 5
}
