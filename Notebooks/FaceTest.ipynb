{
 "cells": [
  {
   "cell_type": "code",
   "execution_count": 3,
   "id": "9f2be653-c3e9-4462-bcf0-6daec130ebf1",
   "metadata": {},
   "outputs": [],
   "source": [
    "from imutils import paths\n",
    "import face_recognition\n",
    "import pickle\n",
    "import cv2\n",
    "import os\n",
    "import time\n",
    "import numpy as np"
   ]
  },
  {
   "cell_type": "code",
   "execution_count": 4,
   "id": "c96da226-e1ec-420a-820c-3bea083e4986",
   "metadata": {},
   "outputs": [
    {
     "name": "stdout",
     "output_type": "stream",
     "text": [
      "Images# : 13\n",
      "..\\data\\training\\Gal Gadot\\01.jpg\n",
      "..\\data\\training\\Gal Gadot\\02.jpg\n",
      "..\\data\\training\\Gal Gadot\\03.jpg\n",
      "..\\data\\training\\Gal Gadot\\04.jpg\n",
      "..\\data\\training\\Gal Gadot\\05.jpg\n",
      "..\\data\\training\\Ryan Reynolds\\reynolds.jpg\n",
      "..\\data\\training\\Ryan Reynolds\\Ryan-Reynolds-2011.jpg\n",
      "..\\data\\training\\Ryan Reynolds\\Ryan-Reynolds.png\n",
      "..\\data\\training\\Ryan Reynolds\\Ryan_Reynolds 02.jpg\n",
      "..\\data\\training\\Ryan Reynolds\\Ryan_Reynolds.jpg\n",
      "..\\data\\training\\The Rock\\02.jpg\n",
      "..\\data\\training\\The Rock\\03.jpg\n",
      "..\\data\\training\\The Rock\\4608.jpg\n"
     ]
    }
   ],
   "source": [
    "show_detected_faces = False\n",
    "imagePaths = list(paths.list_images(\"..\\\\data\\\\training\"))\n",
    "\n",
    "print(\"Images# : %s\" % (len(imagePaths),))\n",
    "face_encodings = open(\"..\\\\data\\\\face_enc.tsv\", \"w\")\n",
    "\n",
    "# loop over the image paths\n",
    "for (i, imagePath) in enumerate(imagePaths):\n",
    "    name = imagePath.split(os.path.sep)[-2]\n",
    "    print(imagePath)\n",
    "       \n",
    "    image = cv2.imread(imagePath)\n",
    "    rgb = cv2.cvtColor(image, cv2.COLOR_BGR2RGB)\n",
    "\n",
    "    boxes = face_recognition.api.face_locations(rgb, model='hog')\n",
    "    \n",
    "    # show face boxes found\n",
    "    if show_detected_faces or len(boxes) != 1:\n",
    "        for face_box in boxes:\n",
    "            print(face_box)\n",
    "            y1, x2, y2, x1 = face_box\n",
    "            cv2.rectangle(image, (x1, y1), (x2, y2), (0, 255, 0), 2)\n",
    "        cv2.imshow(\"Frame\", image)\n",
    "        cv2.waitKey(0)\n",
    "    \n",
    "    if len(boxes) != 1:\n",
    "        print (\"One face per image is expected, found : \" + str(len(boxes)))\n",
    "        break\n",
    "\n",
    "    encodings = face_recognition.api.face_encodings(rgb, boxes)\n",
    "\n",
    "    for i in range(0, len(encodings)):       \n",
    "        encoding_data = map(str, encodings[i])\n",
    "        face_encodings.write(name + \"\\t\" + \"|\".join(encoding_data) + \"\\t\" + str(boxes[i]) + \"\\t\" + imagePath + \"\\n\")\n",
    "        \n",
    "face_encodings.close()\n"
   ]
  },
  {
   "cell_type": "code",
   "execution_count": 5,
   "id": "bee1707a-1681-4238-ab71-25ce439e74c4",
   "metadata": {},
   "outputs": [
    {
     "name": "stdout",
     "output_type": "stream",
     "text": [
      "(507, 762, 3)\n"
     ]
    },
    {
     "data": {
      "text/plain": [
       "-1"
      ]
     },
     "execution_count": 5,
     "metadata": {},
     "output_type": "execute_result"
    }
   ],
   "source": [
    "class face_match:\n",
    "    name = \"\"\n",
    "    distance = 0\n",
    "    def __init__ (self, n, d):\n",
    "        self.name = n\n",
    "        self.distance = d\n",
    "\n",
    "cascPathface = os.path.dirname(cv2.__file__) + \"/data/haarcascade_frontalface_alt2.xml\"\n",
    "faceCascade = cv2.CascadeClassifier(cascPathface)\n",
    "\n",
    "# load the face lookup data\n",
    "names_lookup = []\n",
    "face_lookup = []\n",
    "with open(\"..\\\\data\\\\face_enc.tsv\", \"r\") as face_data:\n",
    "    for line in face_data:\n",
    "        tokens = line.split(\"\\t\")\n",
    "        names_lookup.append(tokens[0])\n",
    "        face_data = tokens[1].split(\"|\")\n",
    "        face_floats = np.array(face_data).astype(float)\n",
    "        face_lookup.append(face_floats)\n",
    "\n",
    "\n",
    "#img_path = \"..\\\\data\\\\maxresdefault.jpg\"\n",
    "#img_path = \"..\\\\data\\\\training\\\\Ryan Reynolds\\\\Ryan_Reynolds.jpg\"\n",
    "img_path = \"..\\\\data\\\\group02.jpg\"\n",
    "image = cv2.imread(img_path)\n",
    "print(image.shape)\n",
    "\n",
    "rgb = cv2.cvtColor(image, cv2.COLOR_BGR2RGB)\n",
    "faces = face_recognition.api.face_locations(rgb, number_of_times_to_upsample=1)\n",
    "\n",
    "encodings = face_recognition.api.face_encodings(rgb, known_face_locations=faces)\n",
    "face_results = []\n",
    "for enc_index in range(0, len(encodings)):\n",
    "    encoding = encodings[enc_index]\n",
    "    face_distances = face_recognition.api.face_distance(face_lookup, encoding)\n",
    "\n",
    "    closest_face = None\n",
    "    for i in range(0, len(face_distances)):\n",
    "        if face_distances[i] < 0.55 and (closest_face is None or closest_face.distance > face_distances[i]):\n",
    "            closest_face = face_match(names_lookup[i], face_distances[i])\n",
    "            \n",
    "    face_results.append(closest_face)\n",
    "\n",
    "# process the result\n",
    "# draw some boxes on the faces with our matched face name\n",
    "for i in range(0, len(face_results)):\n",
    "    face_box = faces[i]\n",
    "    face_guess = face_results[i]\n",
    "    \n",
    "    y1, x2, y2, x1 = face_box\n",
    "    \n",
    "    colour = (0, 0, 255)\n",
    "    if face_guess is not None:\n",
    "        colour = colour = (0, 255, 0)\n",
    "    \n",
    "    cv2.rectangle(image, (x1, y1), (x2, y2), colour, 2)\n",
    "    if face_guess is not None:\n",
    "        cv2.putText(image, face_guess.name, (x1, y1-5), cv2.FONT_HERSHEY_SIMPLEX, 0.50, colour, 1)\n",
    "        cv2.putText(image, str(round(face_guess.distance, 5)), (x1, y2 + 20), cv2.FONT_HERSHEY_SIMPLEX, 0.50, colour, 1)\n",
    "\n",
    "cv2.imshow(\"Frame\", image)\n",
    "cv2.waitKey(0)"
   ]
  },
  {
   "cell_type": "code",
   "execution_count": null,
   "id": "2133bea8-555a-45b9-b1a8-f2237317c42f",
   "metadata": {},
   "outputs": [],
   "source": []
  }
 ],
 "metadata": {
  "kernelspec": {
   "display_name": "Python 3 (ipykernel)",
   "language": "python",
   "name": "python3"
  },
  "language_info": {
   "codemirror_mode": {
    "name": "ipython",
    "version": 3
   },
   "file_extension": ".py",
   "mimetype": "text/x-python",
   "name": "python",
   "nbconvert_exporter": "python",
   "pygments_lexer": "ipython3",
   "version": "3.10.9"
  }
 },
 "nbformat": 4,
 "nbformat_minor": 5
}
